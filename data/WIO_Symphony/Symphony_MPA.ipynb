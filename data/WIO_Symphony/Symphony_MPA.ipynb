{
 "cells": [
  {
   "cell_type": "code",
   "execution_count": 4,
   "id": "99bb095e-f558-4c38-b1c9-2ab0b30d92f0",
   "metadata": {},
   "outputs": [],
   "source": [
    "import numpy as np\n",
    "import pandas as pd\n",
    "from matplotlib import pyplot as plt\n",
    "from sqlalchemy import create_engine\n",
    "import json"
   ]
  },
  {
   "cell_type": "code",
   "execution_count": 8,
   "id": "9e41d4fd-08b0-4395-bcf8-f6eb23406143",
   "metadata": {},
   "outputs": [
    {
     "data": {
      "text/plain": [
       "'2.0.0'"
      ]
     },
     "execution_count": 8,
     "metadata": {},
     "output_type": "execute_result"
    }
   ],
   "source": [
    "pd.__version__"
   ]
  },
  {
   "cell_type": "code",
   "execution_count": 2,
   "id": "25f314e2-ab09-4ac9-b891-f0ac7c9e35aa",
   "metadata": {},
   "outputs": [],
   "source": [
    "#Define path and one file example\n",
    "PATH_WIO = \"/Users/xavierpivan/HubOcean/wiosym/products/v2.1/output_geotiffs/\"\n",
    "PATH_SENSITIVITY = \"/Users/xavierpivan/HubOcean/data/WIO_Symphony/\"\n",
    "\n",
    "sensitivity_path = PATH_SENSITIVITY+\"Sensitivity Matrix 20220224.xlsx\"\n",
    "\n",
    "ecosystem_path = PATH_WIO+\"eco/\"\n",
    "pressure_path = PATH_WIO+\"pres/\"\n",
    "\n",
    "eco_files_list = glob(ecosystem_path+'*.tif')\n",
    "pres_files_list = glob(pressure_path+'*.tif')\n",
    "\n",
    "{username:\"postgresql://xavier@postgresql-dev-server-1\"\n",
    "password:\"Cbiy6JW93iTVFF7H\"\n",
    "host:\"postgresql-dev-server-1.postgres.database.azure.com\"\n",
    "database:\"dev_wmsdata_db\"}\n",
    "\n",
    "\n",
    "with open('example.json', 'r') as file:\n",
    "    data = json.load(file)\n"
   ]
  },
  {
   "cell_type": "code",
   "execution_count": 7,
   "id": "5231b095-f2f5-4115-af3a-08d2fe9fee4d",
   "metadata": {},
   "outputs": [],
   "source": [
    "conn = psycopg2.connect(\n",
    "        host=host,\n",
    "        database=database,\n",
    "        user=username,\n",
    "        password=password)\n",
    "\n",
    "# Format the connection string\n",
    "conn_str = f\"postgresql+psycopg2://{conn_params['user']}:{conn_params['password']}@{conn_params['host']}:{conn_params['port']}/{conn_params['database']}\"\n",
    "\n",
    "engine = create_engine(connection_string)\n"
   ]
  },
  {
   "cell_type": "code",
   "execution_count": null,
   "id": "60f5cff8-fd52-4ba4-b820-bab6cb46983c",
   "metadata": {},
   "outputs": [],
   "source": [
    "sql = f\"\"\"select geom, \"ORIG_NAME\" \n",
    "FROM marine_protected_areas\n",
    "WHERE ST_Within(\n",
    "    ST_SetSRID(ST_Centroid(geom), 4326),\n",
    "    ST_MakeEnvelope({}, {}, {}, {}, 4326)\n",
    ");\n",
    "\"\"\"\n",
    "\n"
   ]
  }
 ],
 "metadata": {
  "kernelspec": {
   "display_name": "VessEmEnv",
   "language": "python",
   "name": "vessemenv"
  },
  "language_info": {
   "codemirror_mode": {
    "name": "ipython",
    "version": 3
   },
   "file_extension": ".py",
   "mimetype": "text/x-python",
   "name": "python",
   "nbconvert_exporter": "python",
   "pygments_lexer": "ipython3",
   "version": "3.8.18"
  }
 },
 "nbformat": 4,
 "nbformat_minor": 5
}
