{
 "cells": [
  {
   "cell_type": "markdown",
   "id": "249ea06d-0275-4657-9237-84a812eb65c7",
   "metadata": {},
   "source": [
    "<div style=\"text-align: center; font-size: 32px;\">Introduction to WindEurope Annual Event 2024 Hackathon Data Analysis with HubOcean's collaboration</div>\n",
    "\n",
    "![Hack The Climate](Flag_hackathon.png)\n",
    "\n",
    "    Welcome to our analytical notebook for the WindEurope Annual Event 2024 Hackathon. In this notebook, we will explore a vestas dataset sample encompassing both wind speed, direction measurements in the context of the WindEurope Hackathon. Our focus will be on providing insight about different data structures that could be used to perform data analysis. We will visualize the data and hope to inspire or trigger innovative ideas for the candidates. \n",
    "\n",
    "    What you get in this notebook:\n",
    "    \n",
    "        1. The process to go from the sampling csv file to a multidimensional dataset xarray with two variables, wind speed and wind direction, with dimension (time, lon, lat, altitude)\n",
    "        2. A brief analysis to visualize the dominant trend for wind speed and direction\n",
    "        3. An example of temporal signal processing using Fourier on transform on a selected point to highlight cycle or denoise the signal.\n",
    "        4. An example of how to go from a non-uniform grid to a uniform gridded data in order to perform spatial analysis. In our example we demonstrate how to calculate the relative voriticty."
   ]
  },
  {
   "cell_type": "code",
   "execution_count": null,
   "id": "8a6e1838-3229-4c12-9b17-745b540a4397",
   "metadata": {},
   "outputs": [],
   "source": [
    "# Import and data preprocessing\n",
    "!pip install basemap\n",
    "!pip install haversine\n",
    "\n",
    "from mpl_toolkits.basemap import Basemap\n",
    "from haversine import haversine, Unit\n",
    "import zipfile\n",
    "import pandas as pd\n",
    "import numpy as np\n",
    "import xarray as xr\n",
    "from windrose import WindroseAxes\n",
    "import matplotlib.cm as cm\n",
    "from matplotlib import pyplot as plt\n",
    "import cartopy.crs as ccrs\n",
    "from scipy.interpolate import griddata\n",
    "from mpl_toolkits.axes_grid1.inset_locator import zoomed_inset_axes\n",
    "from scipy.signal import butter, filtfilt\n",
    "import pyproj"
   ]
  },
  {
   "cell_type": "code",
   "execution_count": null,
   "id": "cb2e8b85-023f-4e50-9550-d4ce0a2631e6",
   "metadata": {},
   "outputs": [],
   "source": [
    "zip_file_path = 'vcl_ts_-74.14687_-73.61269_40.08408_40.49947.zip'\n",
    "csv_filename = 'vcl_ts_-74.14687_-73.61269_40.08408_40.49947.csv'\n",
    "save_to = '.'"
   ]
  },
  {
   "cell_type": "code",
   "execution_count": null,
   "id": "7a39645c-d67c-46f6-9f2f-1b47553f0b76",
   "metadata": {},
   "outputs": [],
   "source": [
    "with zipfile.ZipFile(zip_file_path, 'r') as zip_ref:\n",
    "    zip_ref.extract(csv_filename, '.')"
   ]
  },
  {
   "cell_type": "code",
   "execution_count": null,
   "id": "e888546c-ff7b-4c61-9b1e-d3572d9654ab",
   "metadata": {},
   "outputs": [],
   "source": [
    "df = pd.read_csv('vcl_ts_-74.14687_-73.61269_40.08408_40.49947.csv', header=13, index_col=0)\n",
    "if len(df['dx'].unique())==1:\n",
    "    dx = df['dx'].unique()\n",
    "    df = df.drop(['dx'], axis=1)\n",
    "df"
   ]
  },
  {
   "cell_type": "code",
   "execution_count": null,
   "id": "211b158b-46db-40fb-93a4-5529219b1c91",
   "metadata": {},
   "outputs": [],
   "source": [
    "#Checking the boundary of the box\n",
    "lon_min, lon_max = np.min(df['xlong']), np.max(df['xlong'])\n",
    "lat_min, lat_max = np.min(df['xlat']), np.max(df['xlat'])\n",
    "lon = df['xlong']\n",
    "lat = df['xlat']\n",
    "\n",
    "print(f'Longitude goes from {lon_min} to {lon_max}')\n",
    "print(f'Latitude goes from {lat_min} to {lat_max}')"
   ]
  },
  {
   "cell_type": "code",
   "execution_count": null,
   "id": "27b0007e-b9c7-4a77-a382-5f98a9829656",
   "metadata": {},
   "outputs": [],
   "source": [
    "padding=30\n",
    "fig = plt.figure()\n",
    "\n",
    "map = Basemap(llcrnrlon=lon_min-padding, llcrnrlat=lat_max+padding, urcrnrlon=lon_max+padding, urcrnrlat=lat_min-padding,\n",
    "             resolution='i', projection='cyl', lat_0 = 40.2, lon_0 = -73.85)\n",
    "\n",
    "lon_show, lat_show = df['xlong'], df['xlat']\n",
    "x,y = map(lon_show, lat_show)\n",
    "\n",
    "map.scatter(x, y, marker='X',color='m', label='Original')\n",
    "map.drawcoastlines()\n",
    "\n",
    "map.drawparallels(np.arange(int(lat_min-padding),int(lat_max+padding),5),labels=[1,0,0,0])\n",
    "map.drawmeridians(np.arange(int(lon_min-padding),int(lon_max+padding),5),labels=[0,0,0,1])\n",
    "\n",
    "plt.title('Data Location on East US coastlines')"
   ]
  },
  {
   "cell_type": "code",
   "execution_count": null,
   "id": "b4f2cb43-aa67-4cfd-91e8-ef4522051343",
   "metadata": {},
   "outputs": [],
   "source": [
    "padding = 0.1\n",
    "fig = plt.figure(figsize=(14,14))\n",
    "\n",
    "map = Basemap(llcrnrlon=lon_min-padding, llcrnrlat=lat_max+padding, urcrnrlon=lon_max+padding, urcrnrlat=lat_min-padding,\n",
    "             resolution='i', projection='tmerc', lat_0 = 40.2, lon_0 = -73.85)\n",
    "\n",
    "ax = fig.add_subplot(131)\n",
    "x,y = map(lon, lat)\n",
    "\n",
    "map.scatter(x, y, marker='D',color='m', label='Original')\n",
    "map.drawcoastlines()\n",
    "ax.set_title('Original Wind Data Points')\n",
    "plt.legend()\n"
   ]
  },
  {
   "cell_type": "markdown",
   "id": "bdc0310a-d257-4424-a13c-029837c3111a",
   "metadata": {},
   "source": [
    "# Data Structure\n",
    "\n",
    "We have points distributed as shown on the figure above. The time series of each point start from 01-06-2022 to 31-07-2022 on two altitude level: [50, 150] meters. It is located on the East of USA coastlines.\n",
    "\n",
    "This dataset offers the possibility to perform calculations on both spatial and temporal dimensions. On the next section, we reshape the data so it fits the two variables, wind speed and wind direction, in a xarray dataset format and will allow to perform indexing and calculations across the different dimension in an optimized way. Pandas also fits to perform an EDA but xarray dataset are particularly appropriate when having multiple variable projected on similar dimensions."
   ]
  },
  {
   "cell_type": "code",
   "execution_count": null,
   "id": "92785d6d-18e7-46ee-a0b4-2de4d5822803",
   "metadata": {},
   "outputs": [],
   "source": [
    "#The variable are wsp and wdir with their altitude such as wsp_50.0 with we do assume 50.0 representing the altitude in meters \n",
    "var1 = 'wsp'\n",
    "var2 = 'wdir'\n",
    "df_wsp, df_wdir = (pd.DataFrame(index=df.index) for _ in range(2))\n",
    "altitude = []\n",
    "\n",
    "for col in df:\n",
    "    if var1 in col:\n",
    "        altitude.append(int(float(col.replace(var1+'_', \"\"))))\n",
    "        df_wsp[col] = df[col]\n",
    "    elif var2 in col:\n",
    "        df_wdir[col] = df[col]\n",
    "        \n",
    "altitude = np.array(altitude, dtype = float)"
   ]
  },
  {
   "cell_type": "code",
   "execution_count": null,
   "id": "7c5b5dc1-e2e2-42e6-8409-5d44fb496b79",
   "metadata": {},
   "outputs": [],
   "source": [
    "#Get time, lat, lon limit\n",
    "print('The data starts at {} and ends at {}'.format(df.index.min(), df.index.max()))\n",
    "print('The latitude starts at {} and ends at {}'.format(df['xlat'].min(), df['xlat'].max()))\n",
    "print('The longitude starts at {} and ends at {}'.format(df['xlong'].min(), df['xlong'].max()))"
   ]
  },
  {
   "cell_type": "code",
   "execution_count": null,
   "id": "97ea678c-f7ff-4d68-9725-a46e8230ba04",
   "metadata": {},
   "outputs": [],
   "source": [
    "#What kind of data do we have ? How does the time work ?\n",
    "len_time=len(df.index.unique())\n",
    "print(f'The index is timestamp with a length of {len_time} with value as: \\n {df.index.unique()}')"
   ]
  },
  {
   "cell_type": "code",
   "execution_count": null,
   "id": "fa77e79b-6f53-4f0a-9d53-2863e892e80b",
   "metadata": {},
   "outputs": [],
   "source": [
    "#Let's check now if the data has similar location through the time series:\n",
    "#We sort the value in this order ['timestamp','xlat', 'xlong']\n",
    "df = df.sort_values(by=['timestamp','xlat', 'xlong'])\n",
    "df"
   ]
  },
  {
   "cell_type": "code",
   "execution_count": null,
   "id": "928ec2a1-dc33-49d5-8abd-8bc02a747103",
   "metadata": {},
   "outputs": [],
   "source": [
    "#In this cell, we want to verify if every latitude and longitude are the same in every time step\n",
    "#Do not spend time looking at this cell\n",
    "#If it does we are allowed to grid the data in a 2 dimension grid: (Time, Location) with Location=(Lat, Lon)\n",
    "time_dim = df.index.unique()\n",
    "check=False\n",
    "if check:\n",
    "    regular_spatial_grid = True\n",
    "    \n",
    "    for i, value in enumerate(time_dim):\n",
    "        if i==len(time_dim)-1:\n",
    "            break\n",
    "        A = df[df.index==value]\n",
    "        B = df[df.index==time_dim[i+1]]\n",
    "        test_lat = A['xlat'].values-B['xlat'].values\n",
    "        test_lon = A['xlong'].values-B['xlong'].values\n",
    "       \n",
    "        cond1 = (len(np.unique(test_lat))==1) and (int(test_lat[0])==0)\n",
    "        cond2 = (len(np.unique(test_lon))==1) and (int(test_lon[0])==0)\n",
    "        \n",
    "        if not cond1 or not cond2:\n",
    "            regular_spatial_grid = False\n",
    "            break\n",
    "    \n",
    "    if regular_spatial_grid:\n",
    "        print('The location are consistent through the time series. We can grid the data according to 2 dimensions: (Time, Location)')\n",
    "    \n",
    "    #A plot with a figure would have been a good enough approximation though ..."
   ]
  },
  {
   "cell_type": "code",
   "execution_count": null,
   "id": "7b622309-9885-49e9-abbf-21c4d5f875f8",
   "metadata": {},
   "outputs": [],
   "source": [
    "#We sort the dataframe\n",
    "#Another solution could be to pivot the data\n",
    "#pivot_df = df.pivot_table(index='timestamp', columns=['xlat', 'xlong'], values='wsp_50.0')\n",
    "#pivot_df\n",
    "#lat, lon = df['xlat'], df['xlong']"
   ]
  },
  {
   "cell_type": "code",
   "execution_count": null,
   "id": "ce353be0-1e8a-438a-9be4-829ef11c7ce5",
   "metadata": {},
   "outputs": [],
   "source": [
    "#We create the locations dimension by zipping the latitude and longitude of each position together\n",
    "df_lat_lon = df[df.index==time_dim[0]][['xlat', 'xlong']].values\n",
    "longitudes = df_lat_lon[:, 1]  \n",
    "latitudes = df_lat_lon[:, 0]   \n",
    "locations = np.array(list(zip(df_lat_lon[:,0], df_lat_lon[:,1])))\n",
    "locations[0:10]"
   ]
  },
  {
   "cell_type": "code",
   "execution_count": null,
   "id": "3906e1a8-0f07-4cb0-9b43-65b4a909627c",
   "metadata": {},
   "outputs": [],
   "source": [
    "#By checking the headers from the dataframe we know that the variable such as wsp, wdir represents different altitude (50, 150)...\n",
    "var1 = 'wsp'\n",
    "altitude = []\n",
    "for col in df:\n",
    "    if var1 in col:\n",
    "        altitude.append(int(float(col.replace(var1+'_', \"\"))))"
   ]
  },
  {
   "cell_type": "code",
   "execution_count": null,
   "id": "ec5e37b3-ab46-4b67-bfa7-c1407cb4ac7d",
   "metadata": {},
   "outputs": [],
   "source": [
    "len_time, time_index = len(time_dim), time_dim\n",
    "len_lat = len(locations)\n",
    "len_altitude = len(altitude)"
   ]
  },
  {
   "cell_type": "code",
   "execution_count": null,
   "id": "d9cc24f0-d02a-47ab-8345-234fd49bdbb6",
   "metadata": {},
   "outputs": [],
   "source": [
    "data_array_wsp = np.reshape(df[['wsp_50.0', 'wsp_150.0']].values, (len_time, len_lat, len_altitude))\n",
    "data_array_wdir = np.reshape(df[['wdir_50.0', 'wdir_150.0']].values, (len_time, len_lat, len_altitude))"
   ]
  },
  {
   "cell_type": "code",
   "execution_count": null,
   "id": "ae0b82f3-7e56-4621-ba6b-c229606d22ae",
   "metadata": {},
   "outputs": [],
   "source": [
    "data_array_wsp = xr.DataArray(data_array_wsp, \n",
    "                              dims=[\"timestamp\", \"location\", \"altitude\"],\n",
    "                              coords={\n",
    "                                    \"time\": time_dim,\n",
    "                                    \"location\": np.arange(len(locations)),\n",
    "                                    \"longitude\": (\"location\", longitudes),  \n",
    "                                    \"latitude\": (\"location\", latitudes),\n",
    "                                    \"altitude\": altitude\n",
    "                              })\n",
    "\n",
    "data_array_wdir = xr.DataArray(data_array_wdir, \n",
    "                              dims=[\"timestamp\", \"location\", \"altitude\"],\n",
    "                              coords={\n",
    "                                    \"time\": time_dim,\n",
    "                                    \"location\": np.arange(len(locations)),\n",
    "                                    \"longitude\": (\"location\", longitudes),  \n",
    "                                    \"latitude\": (\"location\", latitudes),\n",
    "                                    \"altitude\": altitude\n",
    "                              })"
   ]
  },
  {
   "cell_type": "code",
   "execution_count": null,
   "id": "8fea0e60-b4f7-4011-9938-b39a2296d342",
   "metadata": {},
   "outputs": [],
   "source": [
    "ds = xr.Dataset({'wind_speed':data_array_wsp,\n",
    "               'wind_direction': data_array_wdir})"
   ]
  },
  {
   "cell_type": "code",
   "execution_count": null,
   "id": "5554d24c-6297-4865-8a55-4250d5edd26f",
   "metadata": {},
   "outputs": [],
   "source": [
    "ds"
   ]
  },
  {
   "cell_type": "markdown",
   "id": "e834f325-819c-48bd-b5f2-b2b81b3cd203",
   "metadata": {},
   "source": [
    "# Exploratory Data Analysis \n",
    "\n",
    "So far in this notebook, the data are untouched and the wind speed, wind direction and positions in the multidimensional dataset freshly created represents strictly the data from the source file but in a better structure to access and index the different variables across different dimensions.\n",
    "\n",
    "## Trend and Pattern \n",
    "\n",
    "The data represents a 2 months time series with different locations measuring wind speed and direction. We here analyze the distribution of these two variables to best describe the main patterns in the data. I.e what is the principal wind component etc ...\n",
    "\n",
    "Here we select all the data points for the altitude 50 meters and have a look at the wind speed and wind direction distributions. "
   ]
  },
  {
   "cell_type": "code",
   "execution_count": null,
   "id": "245aab20-926b-4bdd-a5f1-df90d24be530",
   "metadata": {},
   "outputs": [],
   "source": [
    "# If you want to select the next altitude, change height to 1 and so on.\n",
    "# Here our dataset sampling only has two different altitudes so the index for this dimension stops to 1\n",
    "ws = ds['wind_speed'].isel(altitude=0)\n",
    "wd = ds['wind_direction'].isel(altitude=0)\n",
    "\n",
    "ws_ravel = np.ravel(ws)\n",
    "wd_ravel = np.ravel(wd)\n",
    "\n",
    "wd_ravel"
   ]
  },
  {
   "cell_type": "code",
   "execution_count": null,
   "id": "02b24227-8ca2-42e4-8682-4d07ee3f8d12",
   "metadata": {},
   "outputs": [],
   "source": [
    "# Plotting a rose to visualize the wind distribution\n",
    "ax = WindroseAxes.from_ax()\n",
    "ax.bar(wd_ravel, ws_ravel, normed=True, opening=0.8, edgecolor='white')\n",
    "ax.set_legend(title='Wind Speed [m/s]')\n",
    "plt.title('Wind Speed Distribution related to their direction')"
   ]
  },
  {
   "cell_type": "code",
   "execution_count": null,
   "id": "322ad1dc-1c51-4def-94b5-ac4ec0934347",
   "metadata": {},
   "outputs": [],
   "source": [
    "# Number of bins (e.g., 36 for 10-degree bins)\n",
    "num_bins = 36\n",
    "\n",
    "# Compute the histogram\n",
    "counts, bin_edges = np.histogram(wd_ravel, bins=num_bins, range=(0, 360))\n",
    "counts = np.append(counts, counts[0])\n",
    "\n",
    "# Create the plot\n",
    "fig, ax = plt.subplots(subplot_kw={'projection': 'polar'})\n",
    "ax.set_theta_zero_location('N')\n",
    "ax.set_theta_direction(-1)  \n",
    "\n",
    "# Adjust theta to have the same length as counts\n",
    "theta = np.linspace(0.0, 2 * np.pi, num_bins + 1)\n",
    "\n",
    "# Create bars\n",
    "bars = ax.bar(theta, counts, width=(2 * np.pi) / num_bins, bottom=0.0)\n",
    "ax.set_title(\"Wind Direction Distribution\")\n",
    "plt.show()"
   ]
  },
  {
   "cell_type": "markdown",
   "id": "503cfed6-115c-4555-b1ac-89bbfc24edb2",
   "metadata": {},
   "source": [
    "From these two windrose figures, we know that the stronger winds speed blow south-west ward. It does show two different possibilities to plot and look at the main pattern for wind speed and direction.\n",
    "\n",
    "## Time series and Spectral analysis\n",
    "\n",
    "### Denoising signal and highlight trend and cycle\n",
    "\n",
    "We now focus on one specific point and chose to select the first point in the location dimension. We did notice a kind of noisy signal while plotting the time serie as shown below in the first graph of the subplot. We provide here an example of code to filter and plot a frequency domain to eventually highlight cyclic trend in our time serie. The main frequency are concentrated on the low frequency. In order to remove noise in the signal we apply a low-pass filter and got a filtered signal looking similar than our original but less noisy.\n",
    "\n",
    "A careful spectrum analysis did reveal the main frequency occured at 0.0416 per hour which correspond a cyclic trend of 24.0 hours. The best fit for a physical explanation would be the dominant process a thermal wind.\n",
    "\n",
    "\n",
    "Note: The Fourier transform is used in signal processing to design filters and remove coherent noise. Many filtering operations are performed in the frequency domain. "
   ]
  },
  {
   "cell_type": "code",
   "execution_count": null,
   "id": "6abd0768-d534-463e-a240-bc6b641e96d9",
   "metadata": {},
   "outputs": [],
   "source": [
    "wd_series = ds.wind_direction.isel(location=0)\n",
    "ws_series = ds.wind_speed.isel(location=0)\n",
    "time = ds.coords['time']\n",
    "t = np.arange(len(time))"
   ]
  },
  {
   "cell_type": "code",
   "execution_count": null,
   "id": "bef2aaa3-a7c5-431d-b93c-35a1b4086715",
   "metadata": {},
   "outputs": [],
   "source": [
    "ws_0 = ws_series.isel(altitude=0)\n",
    "plt.figure(figsize=(10,10))\n",
    "ws_0.plot()"
   ]
  },
  {
   "cell_type": "code",
   "execution_count": null,
   "id": "ff447c0f-b4e3-4397-b805-651ac79f89e0",
   "metadata": {},
   "outputs": [],
   "source": [
    "# Function to apply a Butterworth bandpass filter\n",
    "def butter_bandpass_filter(data, lowcut, highcut, fs, order=4):\n",
    "    nyquist = 0.5 * fs\n",
    "    b, a = butter(order, [lowcut/nyquist, highcut/nyquist], btype='band')\n",
    "    y = filtfilt(b, a, data)\n",
    "    return y\n",
    "\n",
    "# Function to perform Fourier Transform\n",
    "def compute_fourier_transform(signal, sampling_rate):\n",
    "    n = len(signal)\n",
    "    freq = np.fft.fftfreq(n, d=1/sampling_rate)\n",
    "    fourier_transform = np.fft.fft(signal)\n",
    "    return freq, fourier_transform\n",
    "\n",
    "\n",
    "# Frequency sample\n",
    "fs = 0.5\n",
    "\n",
    "# Pamaters for the butterworth filter\n",
    "window = [[0.001, 0.06]]#[0.05,0.055], [0.2, 0.25], [0.43, 0.49]]\n",
    "\n",
    "# Compute Fourier Transform\n",
    "frequencies, fourier_transform = compute_fourier_transform(ws_0, fs)\n",
    "\n",
    "# Removing the zero component as a value\n",
    "zero_indices = frequencies == 0\n",
    "frequencies[zero_indices]=0\n",
    "fourier_transform[zero_indices]=0\n",
    "combined_filter = np.zeros_like(fourier_transform)\n",
    "\n",
    "#For the final version I only apply one band pass which is actually a low-pass band\n",
    "for i in range(len(window)):\n",
    "    # Apply the filter\n",
    "    filtered_signal = butter_bandpass_filter(ws_0, window[i][0], window[i][1], fs)\n",
    "    combined_filter += filtered_signal\n",
    "    \n",
    "# Plotting\n",
    "plt.figure(figsize=(12, 8))\n",
    "\n",
    "# Original Signal\n",
    "plt.subplot(3, 1, 1)\n",
    "plt.plot(t, ws_0)\n",
    "plt.title('Original Wind Speed Signal')\n",
    "plt.xlabel('Time (Hours)')\n",
    "plt.ylabel('Wind Speed [m/s]')\n",
    "\n",
    "# Fourier Transform (Magnitude Spectrum)\n",
    "plt.subplot(3, 1, 2)\n",
    "plt.plot(frequencies, np.abs(fourier_transform))\n",
    "plt.title('Spectrum Magnitude of the Signal')\n",
    "plt.xlabel('Frequency (Sampling per hour)')\n",
    "plt.ylabel('Magnitude')\n",
    "\n",
    "plt.subplot(3, 1, 3)\n",
    "plt.plot(t, ws_0, color='g', label='Original Wind Speed')\n",
    "plt.plot(t, combined_filter, color='r', label='Filtered Wind Signal')\n",
    "plt.title('Filtered Wind Signal')\n",
    "plt.legend(loc='upper right')\n",
    "plt.xlabel('Time (Hours)')\n",
    "plt.ylabel('Amplitude')\n",
    "\n",
    "plt.tight_layout()\n",
    "plt.show()"
   ]
  },
  {
   "cell_type": "markdown",
   "id": "0d8d3b55-33cc-4fd6-941c-c0a142fd4d7e",
   "metadata": {},
   "source": [
    "Note: We here provide an example of time series analysis that could be useful for some cases. "
   ]
  },
  {
   "cell_type": "code",
   "execution_count": null,
   "id": "1e7b545d-0146-4256-b243-2b802188755f",
   "metadata": {},
   "outputs": [],
   "source": [
    "#There is one high amplitude peak \n",
    "argmax = np.argmax(np.abs(fourier_transform))\n",
    "print(f\"Main frequency is {frequencies[argmax]}\")\n",
    "print(f\"There could have a cyclic trend of {fs/frequencies[argmax]} hours\")"
   ]
  },
  {
   "cell_type": "markdown",
   "id": "3a80b7c4-f3e3-46af-aae2-50c52ee2fa83",
   "metadata": {},
   "source": [
    "# Spatial analysis\n",
    "\n",
    "In this section we grid the data to calculate the relative vorticity. The purpose is to provide an example of spatial analysis"
   ]
  },
  {
   "cell_type": "code",
   "execution_count": null,
   "id": "cd057f86-fc9f-4edf-a800-65405fc4e001",
   "metadata": {},
   "outputs": [],
   "source": [
    "#We will focus for the visualization on data at altitude 50m \n",
    "wd_h150 = ds['wind_direction'].isel(altitude=1)\n",
    "ws_h150 = ds['wind_speed'].isel(altitude=1)"
   ]
  },
  {
   "cell_type": "code",
   "execution_count": null,
   "id": "ae75df56-34ed-45d8-8869-e266bdc2619a",
   "metadata": {},
   "outputs": [],
   "source": [
    "#We create a grid that cover the data area with 15*15 shape (225 points) which is similar to our 227 points from vestas data\n",
    "lon_range = np.linspace(lon_min, lon_max, 15)\n",
    "lat_range = np.linspace(lat_min, lat_max, 15)\n",
    "grid_x, grid_y = np.meshgrid(lat_range, lon_range)\n"
   ]
  },
  {
   "cell_type": "code",
   "execution_count": null,
   "id": "d0bcbfde-77a2-4268-ab54-b8e1c98c232f",
   "metadata": {},
   "outputs": [],
   "source": [
    "#We visualize here the original points and the grid points we just created\n",
    "padding=0.1\n",
    "fig = plt.figure(figsize=(15,15))\n",
    "\n",
    "map = Basemap(llcrnrlon=lon_min-padding, llcrnrlat=lat_max+padding, urcrnrlon=lon_max+padding, urcrnrlat=lat_min-padding,\n",
    "             resolution='i', projection='tmerc', lat_0 = 40.2, lon_0 = -73.85)\n",
    "\n",
    "ax = fig.add_subplot(131)\n",
    "x,y = map(lon, lat)\n",
    "\n",
    "map.scatter(x, y, marker='D',color='m', label='Original')\n",
    "map.drawcoastlines()\n",
    "ax.set_title('Original Wind Data Points')\n",
    "plt.legend()\n",
    "\n",
    "ax = fig.add_subplot(132)\n",
    "xx,yy = map(grid_y, grid_x)\n",
    "map.scatter(xx, yy, marker='x',color='g', label='Grid')\n",
    "map.drawcoastlines()\n",
    "plt.legend()\n",
    "ax.set_title('Gridded Point')\n",
    "\n",
    "ax = fig.add_subplot(133)\n",
    "map.scatter(x, y, marker='D',color='m', label='Original')\n",
    "map.scatter(xx, yy, marker='x',color='g', label='Grid')\n",
    "map.drawcoastlines()\n",
    "ax.set_title('Original and Gridded Wind Data Points')\n",
    "plt.legend()\n",
    "plt.show()"
   ]
  },
  {
   "cell_type": "code",
   "execution_count": null,
   "id": "fbf0d906-01f1-4600-a1aa-1e2453ad228b",
   "metadata": {},
   "outputs": [],
   "source": [
    "#First we interpolate the data on our grid so the grid value match the nearest value for ws and wd\n",
    "ws_gridded = np.zeros((len(time), len(lat_range), len(lon_range)))\n",
    "wd_gridded = np.zeros_like(ws_gridded)\n",
    "\n",
    "for i, _ in enumerate(time):\n",
    "    ws_gridded[i,:] = griddata(locations, ws_h150.values[i,:], (grid_x, grid_y), method='nearest')\n",
    "    wd_gridded[i,:] = griddata(locations, wd_h150.values[i,:], (grid_x, grid_y), method='nearest')"
   ]
  },
  {
   "cell_type": "code",
   "execution_count": null,
   "id": "9956d4ce-1bb7-4201-9e75-a3aa510eccab",
   "metadata": {},
   "outputs": [],
   "source": [
    "#Let's change the projection from cylindric to cartesian, going from (r, theta) to (u,v) projection.\n",
    "u = ws_gridded*np.cos(wd_gridded)\n",
    "v = ws_gridded*np.sin(wd_gridded)\n",
    "speed = np.sqrt(u*u+v*v)"
   ]
  },
  {
   "cell_type": "code",
   "execution_count": null,
   "id": "5765eaa0-34cc-4904-a3a9-e3a95cf6263f",
   "metadata": {},
   "outputs": [],
   "source": [
    "# We visualize the gridded point through a streamplot\n",
    "padding=0\n",
    "\n",
    "fig = plt.figure(figsize=(12,12))\n",
    "\n",
    "map = Basemap(llcrnrlon=lon_min-padding, llcrnrlat=lat_max+padding, urcrnrlon=lon_max+padding, urcrnrlat=lat_min-padding,\n",
    "             resolution='i', projection='cyl', lat_0 = 40.2, lon_0 = -73.85)\n",
    "\n",
    "map.drawcoastlines()\n",
    "xx, yy = map(grid_x[0,:], grid_y[:,0])\n",
    "map.streamplot(yy, xx, u[0,:], v[0,:], color=speed[0,:], cmap=plt.cm.winter, linewidth=0.5*speed[0,:])\n",
    "plt.colorbar(shrink=0.65, label='Wind Speed [m/s]')\n",
    "plt.title(\"Streamplot on the gridded data using (u,v) component\")\n",
    "plt.show()\n"
   ]
  },
  {
   "cell_type": "markdown",
   "id": "8b04d5e4-92b3-470f-823c-07e14d8f52cc",
   "metadata": {},
   "source": [
    "# Spatial Analysis, Gradient and Relative Vorticity\n",
    "\n",
    "In this part we show a use case of gridding the data. When the data is properly gridded we can perform gradient calculation and calculate the relative vorticity of our dataset.\n"
   ]
  },
  {
   "cell_type": "code",
   "execution_count": null,
   "id": "3d069ed7-96b5-4581-8f98-84e0e08e7327",
   "metadata": {},
   "outputs": [],
   "source": [
    "#Calculation of relative vorticity\n",
    "#dx=grid_x[0,1]-grid_x[0,0]\n",
    "geod = pyproj.Geod(ellps='WGS84')\n",
    "\n",
    "# Function to calculate distances between grid points\n",
    "def calculate_distances(longitude, latitude):\n",
    "    # Preallocate arrays for distances (in meters)\n",
    "    dist_lon = np.zeros_like(longitude)\n",
    "    dist_lat = np.zeros_like(latitude)\n",
    "\n",
    "    # Calculate distances in longitude direction (east-west)\n",
    "    for i in range(longitude.shape[0]):\n",
    "        for j in range(longitude.shape[1] - 1):\n",
    "            _, _, dist_lon[i, j] = geod.inv(longitude[i, j], latitude[i, j],\n",
    "                                           longitude[i, j + 1], latitude[i, j + 1])\n",
    "\n",
    "    # Calculate distances in latitude direction (north-south)\n",
    "    for i in range(latitude.shape[0] - 1):\n",
    "        for j in range(latitude.shape[1]):\n",
    "            _, _, dist_lat[i, j] = geod.inv(longitude[i, j], latitude[i, j],\n",
    "                                           longitude[i + 1, j], latitude[i + 1, j])\n",
    "\n",
    "    return dist_lon, dist_lat\n",
    "\n",
    "#We calculate the distances\n",
    "#Note: we calculate all the distances but this is only useful if your data scale >250km\n",
    "dx, dy = calculate_distances(grid_y, grid_x)\n",
    "\n",
    "#We average the dx and dy matrix since at our study scale on a small area\n",
    "#W\n",
    "dx = np.mean(dx)\n",
    "dy = np.mean(dy)"
   ]
  },
  {
   "cell_type": "code",
   "execution_count": null,
   "id": "b032defc-835c-4586-a812-4e991bb56973",
   "metadata": {},
   "outputs": [],
   "source": [
    "#Calculating relative vorticity\n",
    "dVdx = np.gradient(v, axis=2) / dx\n",
    "dUdy = np.gradient(u, axis=1) / dy\n",
    "relative_vorticity = dVdx - dUdy"
   ]
  },
  {
   "cell_type": "code",
   "execution_count": null,
   "id": "6c100cb6-ab45-482d-9b56-721683c28094",
   "metadata": {},
   "outputs": [],
   "source": [
    "#Plotting the vorticity and wind speec vector\n",
    "padding=0\n",
    "fig = plt.figure(figsize=(10,10))\n",
    "\n",
    "map = Basemap(llcrnrlon=lon_min-padding, llcrnrlat=lat_max+padding, urcrnrlon=lon_max+padding, urcrnrlat=lat_min-padding,\n",
    "             resolution='i', projection='tmerc', lat_0 = 40.2, lon_0 = -73.85)\n",
    "\n",
    "#map.fillcontinents(color='#cc9955', lake_color='aqua', zorder = 0)\n",
    "map.drawcoastlines(color = '0.15')\n",
    "xx, yy = map(grid_y, grid_x)\n",
    "map.contourf(xx,yy,relative_vorticity[0,:])\n",
    "map.quiver(xx, yy, u[0,:], v[0,:])\n",
    "plt.title('Relative vorticity and Wind Speed Vector')\n",
    "plt.colorbar(label='Relative Vorticity [1/s]', shrink=0.65)\n",
    "plt.show()\n"
   ]
  }
 ],
 "metadata": {
  "kernelspec": {
   "display_name": "VessEmEnv",
   "language": "python",
   "name": "vessemenv"
  },
  "language_info": {
   "codemirror_mode": {
    "name": "ipython",
    "version": 3
   },
   "file_extension": ".py",
   "mimetype": "text/x-python",
   "name": "python",
   "nbconvert_exporter": "python",
   "pygments_lexer": "ipython3",
   "version": "3.8.18"
  }
 },
 "nbformat": 4,
 "nbformat_minor": 5
}
